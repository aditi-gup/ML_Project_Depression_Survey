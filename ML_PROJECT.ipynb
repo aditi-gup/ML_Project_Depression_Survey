{
  "nbformat": 4,
  "nbformat_minor": 0,
  "metadata": {
    "colab": {
      "provenance": [],
      "include_colab_link": true
    },
    "kernelspec": {
      "name": "python3",
      "display_name": "Python 3"
    },
    "language_info": {
      "name": "python"
    }
  },
  "cells": [
    {
      "cell_type": "markdown",
      "metadata": {
        "id": "view-in-github",
        "colab_type": "text"
      },
      "source": [
        "<a href=\"https://colab.research.google.com/github/aditi-gup/ML_Project_Depression_Survey/blob/main/ML_PROJECT.ipynb\" target=\"_parent\"><img src=\"https://colab.research.google.com/assets/colab-badge.svg\" alt=\"Open In Colab\"/></a>"
      ]
    },
    {
      "cell_type": "markdown",
      "source": [
        "Comparison of Different ML Algorithms on Depression Survey Dataset from Kaggle"
      ],
      "metadata": {
        "id": "DXj-o3hLeY-n"
      }
    },
    {
      "cell_type": "code",
      "source": [
        "import pandas as pd\n",
        "import numpy as np\n",
        "import seaborn as sns\n",
        "import matplotlib.pyplot as plt\n",
        "\n",
        "from sklearn.model_selection import train_test_split\n",
        "from sklearn.preprocessing import LabelEncoder, StandardScaler\n",
        "from sklearn.linear_model import LogisticRegression\n",
        "from sklearn.ensemble import RandomForestClassifier\n",
        "from xgboost import XGBClassifier\n",
        "from sklearn.metrics import accuracy_score, classification_report, confusion_matrix\n",
        "from sklearn.svm import SVC\n",
        "from sklearn.neighbors import KNeighborsClassifier"
      ],
      "metadata": {
        "id": "RMbWdkpci0pF"
      },
      "execution_count": null,
      "outputs": []
    },
    {
      "cell_type": "code",
      "execution_count": null,
      "metadata": {
        "colab": {
          "base_uri": "https://localhost:8080/",
          "height": 680
        },
        "id": "YOu7re1RdPnu",
        "outputId": "93420110-292b-4da0-b335-e79dc0605110"
      },
      "outputs": [
        {
          "output_type": "execute_result",
          "data": {
            "text/plain": [
              "Name                                        0\n",
              "Gender                                      0\n",
              "Age                                         0\n",
              "City                                        0\n",
              "Working Professional or Student             0\n",
              "Profession                                673\n",
              "Academic Pressure                        2054\n",
              "Work Pressure                             502\n",
              "CGPA                                     2054\n",
              "Study Satisfaction                       2054\n",
              "Job Satisfaction                          502\n",
              "Sleep Duration                              0\n",
              "Dietary Habits                              0\n",
              "Degree                                      0\n",
              "Have you ever had suicidal thoughts ?       0\n",
              "Work/Study Hours                            0\n",
              "Financial Stress                            0\n",
              "Family History of Mental Illness            0\n",
              "Depression                                  0\n",
              "dtype: int64"
            ],
            "text/html": [
              "<div>\n",
              "<style scoped>\n",
              "    .dataframe tbody tr th:only-of-type {\n",
              "        vertical-align: middle;\n",
              "    }\n",
              "\n",
              "    .dataframe tbody tr th {\n",
              "        vertical-align: top;\n",
              "    }\n",
              "\n",
              "    .dataframe thead th {\n",
              "        text-align: right;\n",
              "    }\n",
              "</style>\n",
              "<table border=\"1\" class=\"dataframe\">\n",
              "  <thead>\n",
              "    <tr style=\"text-align: right;\">\n",
              "      <th></th>\n",
              "      <th>0</th>\n",
              "    </tr>\n",
              "  </thead>\n",
              "  <tbody>\n",
              "    <tr>\n",
              "      <th>Name</th>\n",
              "      <td>0</td>\n",
              "    </tr>\n",
              "    <tr>\n",
              "      <th>Gender</th>\n",
              "      <td>0</td>\n",
              "    </tr>\n",
              "    <tr>\n",
              "      <th>Age</th>\n",
              "      <td>0</td>\n",
              "    </tr>\n",
              "    <tr>\n",
              "      <th>City</th>\n",
              "      <td>0</td>\n",
              "    </tr>\n",
              "    <tr>\n",
              "      <th>Working Professional or Student</th>\n",
              "      <td>0</td>\n",
              "    </tr>\n",
              "    <tr>\n",
              "      <th>Profession</th>\n",
              "      <td>673</td>\n",
              "    </tr>\n",
              "    <tr>\n",
              "      <th>Academic Pressure</th>\n",
              "      <td>2054</td>\n",
              "    </tr>\n",
              "    <tr>\n",
              "      <th>Work Pressure</th>\n",
              "      <td>502</td>\n",
              "    </tr>\n",
              "    <tr>\n",
              "      <th>CGPA</th>\n",
              "      <td>2054</td>\n",
              "    </tr>\n",
              "    <tr>\n",
              "      <th>Study Satisfaction</th>\n",
              "      <td>2054</td>\n",
              "    </tr>\n",
              "    <tr>\n",
              "      <th>Job Satisfaction</th>\n",
              "      <td>502</td>\n",
              "    </tr>\n",
              "    <tr>\n",
              "      <th>Sleep Duration</th>\n",
              "      <td>0</td>\n",
              "    </tr>\n",
              "    <tr>\n",
              "      <th>Dietary Habits</th>\n",
              "      <td>0</td>\n",
              "    </tr>\n",
              "    <tr>\n",
              "      <th>Degree</th>\n",
              "      <td>0</td>\n",
              "    </tr>\n",
              "    <tr>\n",
              "      <th>Have you ever had suicidal thoughts ?</th>\n",
              "      <td>0</td>\n",
              "    </tr>\n",
              "    <tr>\n",
              "      <th>Work/Study Hours</th>\n",
              "      <td>0</td>\n",
              "    </tr>\n",
              "    <tr>\n",
              "      <th>Financial Stress</th>\n",
              "      <td>0</td>\n",
              "    </tr>\n",
              "    <tr>\n",
              "      <th>Family History of Mental Illness</th>\n",
              "      <td>0</td>\n",
              "    </tr>\n",
              "    <tr>\n",
              "      <th>Depression</th>\n",
              "      <td>0</td>\n",
              "    </tr>\n",
              "  </tbody>\n",
              "</table>\n",
              "</div><br><label><b>dtype:</b> int64</label>"
            ]
          },
          "metadata": {},
          "execution_count": 2
        }
      ],
      "source": [
        "df = pd.read_csv('depression_survey.csv')\n",
        "df.isnull().sum()"
      ]
    },
    {
      "cell_type": "code",
      "source": [
        "df.describe()"
      ],
      "metadata": {
        "colab": {
          "base_uri": "https://localhost:8080/",
          "height": 300
        },
        "id": "C0TlYNVjgPGY",
        "outputId": "0d7fe975-3d69-4aa4-ed25-537838aa935f"
      },
      "execution_count": null,
      "outputs": [
        {
          "output_type": "execute_result",
          "data": {
            "text/plain": [
              "               Age  Academic Pressure  Work Pressure        CGPA  \\\n",
              "count  2556.000000         502.000000    2054.000000  502.000000   \n",
              "mean     39.043036           3.003984       3.021908    7.567809   \n",
              "std      12.260596           1.390007       1.417312    1.465367   \n",
              "min      18.000000           1.000000       1.000000    5.030000   \n",
              "25%      28.000000           2.000000       2.000000    6.210000   \n",
              "50%      39.000000           3.000000       3.000000    7.605000   \n",
              "75%      50.000000           4.000000       4.000000    8.825000   \n",
              "max      60.000000           5.000000       5.000000   10.000000   \n",
              "\n",
              "       Study Satisfaction  Job Satisfaction  Work/Study Hours  \\\n",
              "count          502.000000       2054.000000       2556.000000   \n",
              "mean             3.075697          3.015093          6.023865   \n",
              "std              1.373490          1.418432          3.771743   \n",
              "min              1.000000          1.000000          0.000000   \n",
              "25%              2.000000          2.000000          3.000000   \n",
              "50%              3.000000          3.000000          6.000000   \n",
              "75%              4.000000          4.000000          9.000000   \n",
              "max              5.000000          5.000000         12.000000   \n",
              "\n",
              "       Financial Stress  \n",
              "count       2556.000000  \n",
              "mean           2.968701  \n",
              "std            1.415527  \n",
              "min            1.000000  \n",
              "25%            2.000000  \n",
              "50%            3.000000  \n",
              "75%            4.000000  \n",
              "max            5.000000  "
            ],
            "text/html": [
              "\n",
              "  <div id=\"df-6bbad7eb-0058-4bbf-a4d7-74a7dc2dfbaa\" class=\"colab-df-container\">\n",
              "    <div>\n",
              "<style scoped>\n",
              "    .dataframe tbody tr th:only-of-type {\n",
              "        vertical-align: middle;\n",
              "    }\n",
              "\n",
              "    .dataframe tbody tr th {\n",
              "        vertical-align: top;\n",
              "    }\n",
              "\n",
              "    .dataframe thead th {\n",
              "        text-align: right;\n",
              "    }\n",
              "</style>\n",
              "<table border=\"1\" class=\"dataframe\">\n",
              "  <thead>\n",
              "    <tr style=\"text-align: right;\">\n",
              "      <th></th>\n",
              "      <th>Age</th>\n",
              "      <th>Academic Pressure</th>\n",
              "      <th>Work Pressure</th>\n",
              "      <th>CGPA</th>\n",
              "      <th>Study Satisfaction</th>\n",
              "      <th>Job Satisfaction</th>\n",
              "      <th>Work/Study Hours</th>\n",
              "      <th>Financial Stress</th>\n",
              "    </tr>\n",
              "  </thead>\n",
              "  <tbody>\n",
              "    <tr>\n",
              "      <th>count</th>\n",
              "      <td>2556.000000</td>\n",
              "      <td>502.000000</td>\n",
              "      <td>2054.000000</td>\n",
              "      <td>502.000000</td>\n",
              "      <td>502.000000</td>\n",
              "      <td>2054.000000</td>\n",
              "      <td>2556.000000</td>\n",
              "      <td>2556.000000</td>\n",
              "    </tr>\n",
              "    <tr>\n",
              "      <th>mean</th>\n",
              "      <td>39.043036</td>\n",
              "      <td>3.003984</td>\n",
              "      <td>3.021908</td>\n",
              "      <td>7.567809</td>\n",
              "      <td>3.075697</td>\n",
              "      <td>3.015093</td>\n",
              "      <td>6.023865</td>\n",
              "      <td>2.968701</td>\n",
              "    </tr>\n",
              "    <tr>\n",
              "      <th>std</th>\n",
              "      <td>12.260596</td>\n",
              "      <td>1.390007</td>\n",
              "      <td>1.417312</td>\n",
              "      <td>1.465367</td>\n",
              "      <td>1.373490</td>\n",
              "      <td>1.418432</td>\n",
              "      <td>3.771743</td>\n",
              "      <td>1.415527</td>\n",
              "    </tr>\n",
              "    <tr>\n",
              "      <th>min</th>\n",
              "      <td>18.000000</td>\n",
              "      <td>1.000000</td>\n",
              "      <td>1.000000</td>\n",
              "      <td>5.030000</td>\n",
              "      <td>1.000000</td>\n",
              "      <td>1.000000</td>\n",
              "      <td>0.000000</td>\n",
              "      <td>1.000000</td>\n",
              "    </tr>\n",
              "    <tr>\n",
              "      <th>25%</th>\n",
              "      <td>28.000000</td>\n",
              "      <td>2.000000</td>\n",
              "      <td>2.000000</td>\n",
              "      <td>6.210000</td>\n",
              "      <td>2.000000</td>\n",
              "      <td>2.000000</td>\n",
              "      <td>3.000000</td>\n",
              "      <td>2.000000</td>\n",
              "    </tr>\n",
              "    <tr>\n",
              "      <th>50%</th>\n",
              "      <td>39.000000</td>\n",
              "      <td>3.000000</td>\n",
              "      <td>3.000000</td>\n",
              "      <td>7.605000</td>\n",
              "      <td>3.000000</td>\n",
              "      <td>3.000000</td>\n",
              "      <td>6.000000</td>\n",
              "      <td>3.000000</td>\n",
              "    </tr>\n",
              "    <tr>\n",
              "      <th>75%</th>\n",
              "      <td>50.000000</td>\n",
              "      <td>4.000000</td>\n",
              "      <td>4.000000</td>\n",
              "      <td>8.825000</td>\n",
              "      <td>4.000000</td>\n",
              "      <td>4.000000</td>\n",
              "      <td>9.000000</td>\n",
              "      <td>4.000000</td>\n",
              "    </tr>\n",
              "    <tr>\n",
              "      <th>max</th>\n",
              "      <td>60.000000</td>\n",
              "      <td>5.000000</td>\n",
              "      <td>5.000000</td>\n",
              "      <td>10.000000</td>\n",
              "      <td>5.000000</td>\n",
              "      <td>5.000000</td>\n",
              "      <td>12.000000</td>\n",
              "      <td>5.000000</td>\n",
              "    </tr>\n",
              "  </tbody>\n",
              "</table>\n",
              "</div>\n",
              "    <div class=\"colab-df-buttons\">\n",
              "\n",
              "  <div class=\"colab-df-container\">\n",
              "    <button class=\"colab-df-convert\" onclick=\"convertToInteractive('df-6bbad7eb-0058-4bbf-a4d7-74a7dc2dfbaa')\"\n",
              "            title=\"Convert this dataframe to an interactive table.\"\n",
              "            style=\"display:none;\">\n",
              "\n",
              "  <svg xmlns=\"http://www.w3.org/2000/svg\" height=\"24px\" viewBox=\"0 -960 960 960\">\n",
              "    <path d=\"M120-120v-720h720v720H120Zm60-500h600v-160H180v160Zm220 220h160v-160H400v160Zm0 220h160v-160H400v160ZM180-400h160v-160H180v160Zm440 0h160v-160H620v160ZM180-180h160v-160H180v160Zm440 0h160v-160H620v160Z\"/>\n",
              "  </svg>\n",
              "    </button>\n",
              "\n",
              "  <style>\n",
              "    .colab-df-container {\n",
              "      display:flex;\n",
              "      gap: 12px;\n",
              "    }\n",
              "\n",
              "    .colab-df-convert {\n",
              "      background-color: #E8F0FE;\n",
              "      border: none;\n",
              "      border-radius: 50%;\n",
              "      cursor: pointer;\n",
              "      display: none;\n",
              "      fill: #1967D2;\n",
              "      height: 32px;\n",
              "      padding: 0 0 0 0;\n",
              "      width: 32px;\n",
              "    }\n",
              "\n",
              "    .colab-df-convert:hover {\n",
              "      background-color: #E2EBFA;\n",
              "      box-shadow: 0px 1px 2px rgba(60, 64, 67, 0.3), 0px 1px 3px 1px rgba(60, 64, 67, 0.15);\n",
              "      fill: #174EA6;\n",
              "    }\n",
              "\n",
              "    .colab-df-buttons div {\n",
              "      margin-bottom: 4px;\n",
              "    }\n",
              "\n",
              "    [theme=dark] .colab-df-convert {\n",
              "      background-color: #3B4455;\n",
              "      fill: #D2E3FC;\n",
              "    }\n",
              "\n",
              "    [theme=dark] .colab-df-convert:hover {\n",
              "      background-color: #434B5C;\n",
              "      box-shadow: 0px 1px 3px 1px rgba(0, 0, 0, 0.15);\n",
              "      filter: drop-shadow(0px 1px 2px rgba(0, 0, 0, 0.3));\n",
              "      fill: #FFFFFF;\n",
              "    }\n",
              "  </style>\n",
              "\n",
              "    <script>\n",
              "      const buttonEl =\n",
              "        document.querySelector('#df-6bbad7eb-0058-4bbf-a4d7-74a7dc2dfbaa button.colab-df-convert');\n",
              "      buttonEl.style.display =\n",
              "        google.colab.kernel.accessAllowed ? 'block' : 'none';\n",
              "\n",
              "      async function convertToInteractive(key) {\n",
              "        const element = document.querySelector('#df-6bbad7eb-0058-4bbf-a4d7-74a7dc2dfbaa');\n",
              "        const dataTable =\n",
              "          await google.colab.kernel.invokeFunction('convertToInteractive',\n",
              "                                                    [key], {});\n",
              "        if (!dataTable) return;\n",
              "\n",
              "        const docLinkHtml = 'Like what you see? Visit the ' +\n",
              "          '<a target=\"_blank\" href=https://colab.research.google.com/notebooks/data_table.ipynb>data table notebook</a>'\n",
              "          + ' to learn more about interactive tables.';\n",
              "        element.innerHTML = '';\n",
              "        dataTable['output_type'] = 'display_data';\n",
              "        await google.colab.output.renderOutput(dataTable, element);\n",
              "        const docLink = document.createElement('div');\n",
              "        docLink.innerHTML = docLinkHtml;\n",
              "        element.appendChild(docLink);\n",
              "      }\n",
              "    </script>\n",
              "  </div>\n",
              "\n",
              "\n",
              "    <div id=\"df-03b5098a-9f20-40fb-82b1-690bf282359b\">\n",
              "      <button class=\"colab-df-quickchart\" onclick=\"quickchart('df-03b5098a-9f20-40fb-82b1-690bf282359b')\"\n",
              "                title=\"Suggest charts\"\n",
              "                style=\"display:none;\">\n",
              "\n",
              "<svg xmlns=\"http://www.w3.org/2000/svg\" height=\"24px\"viewBox=\"0 0 24 24\"\n",
              "     width=\"24px\">\n",
              "    <g>\n",
              "        <path d=\"M19 3H5c-1.1 0-2 .9-2 2v14c0 1.1.9 2 2 2h14c1.1 0 2-.9 2-2V5c0-1.1-.9-2-2-2zM9 17H7v-7h2v7zm4 0h-2V7h2v10zm4 0h-2v-4h2v4z\"/>\n",
              "    </g>\n",
              "</svg>\n",
              "      </button>\n",
              "\n",
              "<style>\n",
              "  .colab-df-quickchart {\n",
              "      --bg-color: #E8F0FE;\n",
              "      --fill-color: #1967D2;\n",
              "      --hover-bg-color: #E2EBFA;\n",
              "      --hover-fill-color: #174EA6;\n",
              "      --disabled-fill-color: #AAA;\n",
              "      --disabled-bg-color: #DDD;\n",
              "  }\n",
              "\n",
              "  [theme=dark] .colab-df-quickchart {\n",
              "      --bg-color: #3B4455;\n",
              "      --fill-color: #D2E3FC;\n",
              "      --hover-bg-color: #434B5C;\n",
              "      --hover-fill-color: #FFFFFF;\n",
              "      --disabled-bg-color: #3B4455;\n",
              "      --disabled-fill-color: #666;\n",
              "  }\n",
              "\n",
              "  .colab-df-quickchart {\n",
              "    background-color: var(--bg-color);\n",
              "    border: none;\n",
              "    border-radius: 50%;\n",
              "    cursor: pointer;\n",
              "    display: none;\n",
              "    fill: var(--fill-color);\n",
              "    height: 32px;\n",
              "    padding: 0;\n",
              "    width: 32px;\n",
              "  }\n",
              "\n",
              "  .colab-df-quickchart:hover {\n",
              "    background-color: var(--hover-bg-color);\n",
              "    box-shadow: 0 1px 2px rgba(60, 64, 67, 0.3), 0 1px 3px 1px rgba(60, 64, 67, 0.15);\n",
              "    fill: var(--button-hover-fill-color);\n",
              "  }\n",
              "\n",
              "  .colab-df-quickchart-complete:disabled,\n",
              "  .colab-df-quickchart-complete:disabled:hover {\n",
              "    background-color: var(--disabled-bg-color);\n",
              "    fill: var(--disabled-fill-color);\n",
              "    box-shadow: none;\n",
              "  }\n",
              "\n",
              "  .colab-df-spinner {\n",
              "    border: 2px solid var(--fill-color);\n",
              "    border-color: transparent;\n",
              "    border-bottom-color: var(--fill-color);\n",
              "    animation:\n",
              "      spin 1s steps(1) infinite;\n",
              "  }\n",
              "\n",
              "  @keyframes spin {\n",
              "    0% {\n",
              "      border-color: transparent;\n",
              "      border-bottom-color: var(--fill-color);\n",
              "      border-left-color: var(--fill-color);\n",
              "    }\n",
              "    20% {\n",
              "      border-color: transparent;\n",
              "      border-left-color: var(--fill-color);\n",
              "      border-top-color: var(--fill-color);\n",
              "    }\n",
              "    30% {\n",
              "      border-color: transparent;\n",
              "      border-left-color: var(--fill-color);\n",
              "      border-top-color: var(--fill-color);\n",
              "      border-right-color: var(--fill-color);\n",
              "    }\n",
              "    40% {\n",
              "      border-color: transparent;\n",
              "      border-right-color: var(--fill-color);\n",
              "      border-top-color: var(--fill-color);\n",
              "    }\n",
              "    60% {\n",
              "      border-color: transparent;\n",
              "      border-right-color: var(--fill-color);\n",
              "    }\n",
              "    80% {\n",
              "      border-color: transparent;\n",
              "      border-right-color: var(--fill-color);\n",
              "      border-bottom-color: var(--fill-color);\n",
              "    }\n",
              "    90% {\n",
              "      border-color: transparent;\n",
              "      border-bottom-color: var(--fill-color);\n",
              "    }\n",
              "  }\n",
              "</style>\n",
              "\n",
              "      <script>\n",
              "        async function quickchart(key) {\n",
              "          const quickchartButtonEl =\n",
              "            document.querySelector('#' + key + ' button');\n",
              "          quickchartButtonEl.disabled = true;  // To prevent multiple clicks.\n",
              "          quickchartButtonEl.classList.add('colab-df-spinner');\n",
              "          try {\n",
              "            const charts = await google.colab.kernel.invokeFunction(\n",
              "                'suggestCharts', [key], {});\n",
              "          } catch (error) {\n",
              "            console.error('Error during call to suggestCharts:', error);\n",
              "          }\n",
              "          quickchartButtonEl.classList.remove('colab-df-spinner');\n",
              "          quickchartButtonEl.classList.add('colab-df-quickchart-complete');\n",
              "        }\n",
              "        (() => {\n",
              "          let quickchartButtonEl =\n",
              "            document.querySelector('#df-03b5098a-9f20-40fb-82b1-690bf282359b button');\n",
              "          quickchartButtonEl.style.display =\n",
              "            google.colab.kernel.accessAllowed ? 'block' : 'none';\n",
              "        })();\n",
              "      </script>\n",
              "    </div>\n",
              "\n",
              "    </div>\n",
              "  </div>\n"
            ],
            "application/vnd.google.colaboratory.intrinsic+json": {
              "type": "dataframe",
              "summary": "{\n  \"name\": \"df\",\n  \"rows\": 8,\n  \"fields\": [\n    {\n      \"column\": \"Age\",\n      \"properties\": {\n        \"dtype\": \"number\",\n        \"std\": 891.3814699703705,\n        \"min\": 12.260596136748383,\n        \"max\": 2556.0,\n        \"num_unique_values\": 8,\n        \"samples\": [\n          39.04303599374022,\n          39.0,\n          2556.0\n        ],\n        \"semantic_type\": \"\",\n        \"description\": \"\"\n      }\n    },\n    {\n      \"column\": \"Academic Pressure\",\n      \"properties\": {\n        \"dtype\": \"number\",\n        \"std\": 176.50920424537048,\n        \"min\": 1.0,\n        \"max\": 502.0,\n        \"num_unique_values\": 8,\n        \"samples\": [\n          3.00398406374502,\n          3.0,\n          502.0\n        ],\n        \"semantic_type\": \"\",\n        \"description\": \"\"\n      }\n    },\n    {\n      \"column\": \"Work Pressure\",\n      \"properties\": {\n        \"dtype\": \"number\",\n        \"std\": 725.2180327673931,\n        \"min\": 1.0,\n        \"max\": 2054.0,\n        \"num_unique_values\": 8,\n        \"samples\": [\n          3.0219084712755597,\n          3.0,\n          2054.0\n        ],\n        \"semantic_type\": \"\",\n        \"description\": \"\"\n      }\n    },\n    {\n      \"column\": \"CGPA\",\n      \"properties\": {\n        \"dtype\": \"number\",\n        \"std\": 175.14426860192918,\n        \"min\": 1.4653671817425875,\n        \"max\": 502.0,\n        \"num_unique_values\": 8,\n        \"samples\": [\n          7.567808764940239,\n          7.605,\n          502.0\n        ],\n        \"semantic_type\": \"\",\n        \"description\": \"\"\n      }\n    },\n    {\n      \"column\": \"Study Satisfaction\",\n      \"properties\": {\n        \"dtype\": \"number\",\n        \"std\": 176.50645053610998,\n        \"min\": 1.0,\n        \"max\": 502.0,\n        \"num_unique_values\": 8,\n        \"samples\": [\n          3.0756972111553784,\n          3.0,\n          502.0\n        ],\n        \"semantic_type\": \"\",\n        \"description\": \"\"\n      }\n    },\n    {\n      \"column\": \"Job Satisfaction\",\n      \"properties\": {\n        \"dtype\": \"number\",\n        \"std\": 725.2183198530537,\n        \"min\": 1.0,\n        \"max\": 2054.0,\n        \"num_unique_values\": 8,\n        \"samples\": [\n          3.0150925024342747,\n          3.0,\n          2054.0\n        ],\n        \"semantic_type\": \"\",\n        \"description\": \"\"\n      }\n    },\n    {\n      \"column\": \"Work/Study Hours\",\n      \"properties\": {\n        \"dtype\": \"number\",\n        \"std\": 901.6799525618885,\n        \"min\": 0.0,\n        \"max\": 2556.0,\n        \"num_unique_values\": 8,\n        \"samples\": [\n          6.023865414710485,\n          6.0,\n          2556.0\n        ],\n        \"semantic_type\": \"\",\n        \"description\": \"\"\n      }\n    },\n    {\n      \"column\": \"Financial Stress\",\n      \"properties\": {\n        \"dtype\": \"number\",\n        \"std\": 902.7043754833039,\n        \"min\": 1.0,\n        \"max\": 2556.0,\n        \"num_unique_values\": 8,\n        \"samples\": [\n          2.968701095461659,\n          3.0,\n          2556.0\n        ],\n        \"semantic_type\": \"\",\n        \"description\": \"\"\n      }\n    }\n  ]\n}"
            }
          },
          "metadata": {},
          "execution_count": 3
        }
      ]
    },
    {
      "cell_type": "markdown",
      "source": [
        "Dataset has people who are either students or working professionals\n",
        "\n",
        "Based on this:\n",
        "\n",
        "Academic stress = only for students\n",
        "\n",
        "Work-life balance = only for working professionals\n"
      ],
      "metadata": {
        "id": "8MA9b1ubhzMW"
      }
    },
    {
      "cell_type": "markdown",
      "source": [
        " ==> Spliting the data based on role (student/working)"
      ],
      "metadata": {
        "id": "NulkS-S1h-iu"
      }
    },
    {
      "cell_type": "code",
      "source": [
        "student_df = df[df['Working Professional or Student'] == 'Student'].copy()\n",
        "working_df = df[df['Working Professional or Student'] == 'Working Professional'].copy()"
      ],
      "metadata": {
        "id": "KhXsn368gQ84"
      },
      "execution_count": null,
      "outputs": []
    },
    {
      "cell_type": "markdown",
      "source": [
        "Analyzing student_df using the following ML models:\n",
        "  * Logistic Regression\n",
        "  * Random Forest\n",
        "  * XGBoost\n",
        "  * Support Vector Machine (SVM)\n",
        "  * K-Nearest Neighbors (KNN)\n",
        "\n"
      ],
      "metadata": {
        "id": "1ya81AlljgJt"
      }
    },
    {
      "cell_type": "code",
      "source": [
        "# Removing Columns NOT Relevant to Students\n",
        "student_df.drop(columns=['Profession','Work Pressure', 'Job Satisfaction'], inplace=True, errors='ignore')\n",
        "# percentage of missing values per column => to decide whether to drop the rows with missing values or replace them with statistical data\n",
        "# student_df.isnull().mean() * 100\n",
        "student_df.dropna(inplace=True)"
      ],
      "metadata": {
        "id": "uGPe9Zjiixn2"
      },
      "execution_count": null,
      "outputs": []
    },
    {
      "cell_type": "code",
      "source": [
        "label_encoders = {}\n",
        "for column in student_df.select_dtypes(include='object'):\n",
        "    if column != 'Depression':  # target label ko alag handle karenge\n",
        "        le = LabelEncoder()\n",
        "        student_df[column] = le.fit_transform(student_df[column])\n",
        "        label_encoders[column] = le\n",
        "\n",
        "# Encode target column\n",
        "student_df['Depression'] = student_df['Depression'].map({'Yes': 1, 'No': 0})"
      ],
      "metadata": {
        "id": "SmwqgFD6mjth"
      },
      "execution_count": null,
      "outputs": []
    },
    {
      "cell_type": "code",
      "source": [
        "X_s = student_df.drop('Depression', axis=1)\n",
        "y_s = student_df['Depression']\n",
        "X_s_train, X_s_test, y_s_train, y_s_test = train_test_split(X_s, y_s, test_size=0.2, random_state=42)"
      ],
      "metadata": {
        "id": "dSOk_jjEpPu-"
      },
      "execution_count": null,
      "outputs": []
    },
    {
      "cell_type": "code",
      "source": [
        "scaler = StandardScaler()\n",
        "X_s_train_scaled = scaler.fit_transform(X_s_train)\n",
        "X_s_test_scaled = scaler.transform(X_s_test)"
      ],
      "metadata": {
        "id": "_1PfCKhzpbUq"
      },
      "execution_count": null,
      "outputs": []
    },
    {
      "cell_type": "markdown",
      "source": [
        "1. Logistic Regression"
      ],
      "metadata": {
        "id": "OCSzc7lkqsZV"
      }
    },
    {
      "cell_type": "code",
      "source": [
        "lr = LogisticRegression()\n",
        "lr.fit(X_s_train_scaled, y_s_train)\n",
        "lr_pred_s = lr.predict(X_s_test_scaled)\n",
        "\n",
        "print(\"Logistic Regression Accuracy:\", accuracy_score(y_s_test, lr_pred_s))\n",
        "print(classification_report(y_s_test, lr_pred_s))\n"
      ],
      "metadata": {
        "colab": {
          "base_uri": "https://localhost:8080/"
        },
        "id": "Yfquc2jTpWZW",
        "outputId": "5b352638-61ad-44d7-ef95-a2a0e34c1ad6"
      },
      "execution_count": 9,
      "outputs": [
        {
          "output_type": "stream",
          "name": "stdout",
          "text": [
            "Logistic Regression Accuracy: 0.9702970297029703\n",
            "              precision    recall  f1-score   support\n",
            "\n",
            "           0       0.98      0.96      0.97        48\n",
            "           1       0.96      0.98      0.97        53\n",
            "\n",
            "    accuracy                           0.97       101\n",
            "   macro avg       0.97      0.97      0.97       101\n",
            "weighted avg       0.97      0.97      0.97       101\n",
            "\n"
          ]
        }
      ]
    },
    {
      "cell_type": "markdown",
      "source": [
        "2. Random Forest"
      ],
      "metadata": {
        "id": "WumdpxMarDkd"
      }
    },
    {
      "cell_type": "code",
      "source": [
        "rf = RandomForestClassifier()\n",
        "rf.fit(X_s_train, y_s_train)\n",
        "rf_pred_s = rf.predict(X_s_test)\n",
        "\n",
        "print(\"Random Forest Accuracy:\", accuracy_score(y_s_test, rf_pred_s))\n",
        "print(classification_report(y_s_test, rf_pred_s))"
      ],
      "metadata": {
        "colab": {
          "base_uri": "https://localhost:8080/"
        },
        "id": "VSDj8NNOrC87",
        "outputId": "1040ae86-93e0-45af-f127-5dc2f9f07da3"
      },
      "execution_count": 10,
      "outputs": [
        {
          "output_type": "stream",
          "name": "stdout",
          "text": [
            "Random Forest Accuracy: 0.9207920792079208\n",
            "              precision    recall  f1-score   support\n",
            "\n",
            "           0       0.95      0.88      0.91        48\n",
            "           1       0.89      0.96      0.93        53\n",
            "\n",
            "    accuracy                           0.92       101\n",
            "   macro avg       0.92      0.92      0.92       101\n",
            "weighted avg       0.92      0.92      0.92       101\n",
            "\n"
          ]
        }
      ]
    },
    {
      "cell_type": "markdown",
      "source": [
        "3. XGBoost"
      ],
      "metadata": {
        "id": "2LhQnEQbrJ-c"
      }
    },
    {
      "cell_type": "code",
      "source": [
        "xgb = XGBClassifier(use_label_encoder=False, eval_metric='logloss')\n",
        "xgb.fit(X_s_train, y_s_train)\n",
        "xgb_pred_s = xgb.predict(X_s_test)\n",
        "\n",
        "print(\"XGBoost Accuracy:\", accuracy_score(y_s_test, xgb_pred_s))\n",
        "print(classification_report(y_s_test, xgb_pred_s))"
      ],
      "metadata": {
        "colab": {
          "base_uri": "https://localhost:8080/"
        },
        "id": "jyscVgYwrKwF",
        "outputId": "f7d55a05-84d2-4384-96ce-95433350e8eb"
      },
      "execution_count": 11,
      "outputs": [
        {
          "output_type": "stream",
          "name": "stderr",
          "text": [
            "/usr/local/lib/python3.11/dist-packages/xgboost/core.py:158: UserWarning: [15:43:58] WARNING: /workspace/src/learner.cc:740: \n",
            "Parameters: { \"use_label_encoder\" } are not used.\n",
            "\n",
            "  warnings.warn(smsg, UserWarning)\n"
          ]
        },
        {
          "output_type": "stream",
          "name": "stdout",
          "text": [
            "XGBoost Accuracy: 0.9306930693069307\n",
            "              precision    recall  f1-score   support\n",
            "\n",
            "           0       0.96      0.90      0.92        48\n",
            "           1       0.91      0.96      0.94        53\n",
            "\n",
            "    accuracy                           0.93       101\n",
            "   macro avg       0.93      0.93      0.93       101\n",
            "weighted avg       0.93      0.93      0.93       101\n",
            "\n"
          ]
        }
      ]
    },
    {
      "cell_type": "markdown",
      "source": [
        "4. Support Vector Machine (SVM)"
      ],
      "metadata": {
        "id": "ZZjPppmmrSVd"
      }
    },
    {
      "cell_type": "code",
      "source": [
        "svm = SVC()\n",
        "svm.fit(X_s_train_scaled, y_s_train)\n",
        "svm_pred_s = svm.predict(X_s_test_scaled)\n",
        "\n",
        "print(\"SVM Accuracy:\", accuracy_score(y_s_test, svm_pred_s))\n",
        "print(classification_report(y_s_test, svm_pred_s))"
      ],
      "metadata": {
        "colab": {
          "base_uri": "https://localhost:8080/"
        },
        "id": "cqf58_LVrUBm",
        "outputId": "f90c5ac0-4a07-49e3-e268-6e2c93435f0c"
      },
      "execution_count": 12,
      "outputs": [
        {
          "output_type": "stream",
          "name": "stdout",
          "text": [
            "SVM Accuracy: 0.9306930693069307\n",
            "              precision    recall  f1-score   support\n",
            "\n",
            "           0       0.94      0.92      0.93        48\n",
            "           1       0.93      0.94      0.93        53\n",
            "\n",
            "    accuracy                           0.93       101\n",
            "   macro avg       0.93      0.93      0.93       101\n",
            "weighted avg       0.93      0.93      0.93       101\n",
            "\n"
          ]
        }
      ]
    },
    {
      "cell_type": "markdown",
      "source": [
        "5. K-Nearest Neighbors (KNN)"
      ],
      "metadata": {
        "id": "twZnCiQurgYt"
      }
    },
    {
      "cell_type": "code",
      "source": [
        "knn = KNeighborsClassifier()\n",
        "knn.fit(X_s_train_scaled, y_s_train)\n",
        "knn_pred_s = knn.predict(X_s_test_scaled)\n",
        "\n",
        "print(\"KNN Accuracy:\", accuracy_score(y_s_test, knn_pred_s))\n",
        "print(classification_report(y_s_test, knn_pred_s))"
      ],
      "metadata": {
        "colab": {
          "base_uri": "https://localhost:8080/"
        },
        "id": "oqbKSadCrgDN",
        "outputId": "91cc9884-4d64-4896-865a-63cca77fdc1d"
      },
      "execution_count": 13,
      "outputs": [
        {
          "output_type": "stream",
          "name": "stdout",
          "text": [
            "KNN Accuracy: 0.8910891089108911\n",
            "              precision    recall  f1-score   support\n",
            "\n",
            "           0       0.91      0.85      0.88        48\n",
            "           1       0.88      0.92      0.90        53\n",
            "\n",
            "    accuracy                           0.89       101\n",
            "   macro avg       0.89      0.89      0.89       101\n",
            "weighted avg       0.89      0.89      0.89       101\n",
            "\n"
          ]
        }
      ]
    },
    {
      "cell_type": "markdown",
      "source": [
        "Analyzing working_df using the following ML models:\n",
        "  * Logistic Regression\n",
        "  * Random Forest\n",
        "  * XGBoost\n",
        "  * Support Vector Machine (SVM)\n",
        "  * K-Nearest Neighbors (KNN)"
      ],
      "metadata": {
        "id": "iTkwZQX13wmr"
      }
    },
    {
      "cell_type": "code",
      "source": [
        "# Removing Columns NOT Relevant to working\n",
        "working_df.drop(columns=['Academic Pressure','CGPA','Study Satisfaction',], inplace=True, errors='ignore')\n",
        "# percentage of missing values per column => to decide whether to drop the rows with missing values or replace them with statistical data\n",
        "# working_df.isnull().mean() * 100\n",
        "working_df.dropna(inplace=True)"
      ],
      "metadata": {
        "id": "Lp6xl0fa38Gx"
      },
      "execution_count": 14,
      "outputs": []
    },
    {
      "cell_type": "code",
      "source": [
        "label_encoders = {}\n",
        "for column in working_df.select_dtypes(include='object'):\n",
        "    if column != 'Depression':  # target label ko alag handle karenge\n",
        "        le = LabelEncoder()\n",
        "        working_df[column] = le.fit_transform(working_df[column])\n",
        "        label_encoders[column] = le\n",
        "\n",
        "# Encode target column\n",
        "working_df['Depression'] = working_df['Depression'].map({'Yes': 1, 'No': 0})"
      ],
      "metadata": {
        "id": "brTaB2jK4q9p"
      },
      "execution_count": 15,
      "outputs": []
    },
    {
      "cell_type": "code",
      "source": [
        "X_w = working_df.drop('Depression', axis=1)\n",
        "y_w = working_df['Depression']\n",
        "X_w_train, X_w_test, y_w_train, y_w_test = train_test_split(X_w, y_w, test_size=0.2, random_state=42)"
      ],
      "metadata": {
        "id": "hvlSlH1J42j9"
      },
      "execution_count": 16,
      "outputs": []
    },
    {
      "cell_type": "code",
      "source": [
        "scaler = StandardScaler()\n",
        "X_w_train_scaled = scaler.fit_transform(X_w_train)\n",
        "X_w_test_scaled = scaler.transform(X_w_test)"
      ],
      "metadata": {
        "id": "cHHXd8DA5EuR"
      },
      "execution_count": 17,
      "outputs": []
    },
    {
      "cell_type": "markdown",
      "source": [
        "1. Logistic Regression"
      ],
      "metadata": {
        "id": "H4dI1Ldn5TxR"
      }
    },
    {
      "cell_type": "code",
      "source": [
        "lr = LogisticRegression()\n",
        "lr.fit(X_w_train_scaled, y_w_train)\n",
        "lr_pred_w = lr.predict(X_w_test_scaled)\n",
        "\n",
        "print(\"Logistic Regression Accuracy:\", accuracy_score(y_w_test, lr_pred_w))\n",
        "print(classification_report(y_w_test, lr_pred_w))"
      ],
      "metadata": {
        "colab": {
          "base_uri": "https://localhost:8080/"
        },
        "id": "jchM2-cC5Uc5",
        "outputId": "80ba84da-6ca9-45d9-e79b-fc5852f0fdd7"
      },
      "execution_count": 18,
      "outputs": [
        {
          "output_type": "stream",
          "name": "stdout",
          "text": [
            "Logistic Regression Accuracy: 0.986737400530504\n",
            "              precision    recall  f1-score   support\n",
            "\n",
            "           0       0.99      0.99      0.99       354\n",
            "           1       0.88      0.91      0.89        23\n",
            "\n",
            "    accuracy                           0.99       377\n",
            "   macro avg       0.93      0.95      0.94       377\n",
            "weighted avg       0.99      0.99      0.99       377\n",
            "\n"
          ]
        }
      ]
    },
    {
      "cell_type": "markdown",
      "source": [
        "2. Random Forest"
      ],
      "metadata": {
        "id": "_F3zzc7u5lFo"
      }
    },
    {
      "cell_type": "code",
      "source": [
        "rf = RandomForestClassifier()\n",
        "rf.fit(X_w_train, y_w_train)\n",
        "rf_pred_w = rf.predict(X_w_test)\n",
        "\n",
        "print(\"Random Forest Accuracy:\", accuracy_score(y_w_test, rf_pred_w))\n",
        "print(classification_report(y_w_test, rf_pred_w))"
      ],
      "metadata": {
        "colab": {
          "base_uri": "https://localhost:8080/"
        },
        "id": "SLxtKzpJ5mpo",
        "outputId": "e5b7bed2-e9b0-4f1e-b896-c42a009149f9"
      },
      "execution_count": 19,
      "outputs": [
        {
          "output_type": "stream",
          "name": "stdout",
          "text": [
            "Random Forest Accuracy: 0.9628647214854111\n",
            "              precision    recall  f1-score   support\n",
            "\n",
            "           0       0.96      1.00      0.98       354\n",
            "           1       1.00      0.39      0.56        23\n",
            "\n",
            "    accuracy                           0.96       377\n",
            "   macro avg       0.98      0.70      0.77       377\n",
            "weighted avg       0.96      0.96      0.96       377\n",
            "\n"
          ]
        }
      ]
    },
    {
      "cell_type": "markdown",
      "source": [
        "3. XGBoost"
      ],
      "metadata": {
        "id": "hl1Fp41K5wGQ"
      }
    },
    {
      "cell_type": "code",
      "source": [
        "xgb = XGBClassifier(use_label_encoder=False, eval_metric='logloss')\n",
        "xgb.fit(X_w_train, y_w_train)\n",
        "xgb_pred_w = xgb.predict(X_w_test)\n",
        "\n",
        "print(\"XGBoost Accuracy:\", accuracy_score(y_w_test, xgb_pred_w))\n",
        "print(classification_report(y_w_test, xgb_pred_w))"
      ],
      "metadata": {
        "colab": {
          "base_uri": "https://localhost:8080/"
        },
        "id": "o7Mo4uyD5yko",
        "outputId": "a36368fa-2fae-4085-edae-0ec95bbb9069"
      },
      "execution_count": 20,
      "outputs": [
        {
          "output_type": "stream",
          "name": "stdout",
          "text": [
            "XGBoost Accuracy: 0.9787798408488063\n",
            "              precision    recall  f1-score   support\n",
            "\n",
            "           0       0.98      1.00      0.99       354\n",
            "           1       0.94      0.70      0.80        23\n",
            "\n",
            "    accuracy                           0.98       377\n",
            "   macro avg       0.96      0.85      0.89       377\n",
            "weighted avg       0.98      0.98      0.98       377\n",
            "\n"
          ]
        },
        {
          "output_type": "stream",
          "name": "stderr",
          "text": [
            "/usr/local/lib/python3.11/dist-packages/xgboost/core.py:158: UserWarning: [15:46:35] WARNING: /workspace/src/learner.cc:740: \n",
            "Parameters: { \"use_label_encoder\" } are not used.\n",
            "\n",
            "  warnings.warn(smsg, UserWarning)\n"
          ]
        }
      ]
    },
    {
      "cell_type": "markdown",
      "source": [
        "4. Support Vector Machine (SVM)"
      ],
      "metadata": {
        "id": "66qjE35R6D9A"
      }
    },
    {
      "cell_type": "code",
      "source": [
        "svm = SVC()\n",
        "svm.fit(X_w_train_scaled, y_w_train)\n",
        "svm_pred_w = svm.predict(X_w_test_scaled)\n",
        "\n",
        "print(\"SVM Accuracy:\", accuracy_score(y_w_test, svm_pred_w))\n",
        "print(classification_report(y_w_test, svm_pred_w))"
      ],
      "metadata": {
        "colab": {
          "base_uri": "https://localhost:8080/"
        },
        "id": "Sf8_1DD46Cwe",
        "outputId": "676c7dc9-3103-4be7-aa6c-005abbbf4d4f"
      },
      "execution_count": 21,
      "outputs": [
        {
          "output_type": "stream",
          "name": "stdout",
          "text": [
            "SVM Accuracy: 0.9734748010610079\n",
            "              precision    recall  f1-score   support\n",
            "\n",
            "           0       0.98      0.99      0.99       354\n",
            "           1       0.88      0.65      0.75        23\n",
            "\n",
            "    accuracy                           0.97       377\n",
            "   macro avg       0.93      0.82      0.87       377\n",
            "weighted avg       0.97      0.97      0.97       377\n",
            "\n"
          ]
        }
      ]
    },
    {
      "cell_type": "markdown",
      "source": [
        "5. K-Nearest Neighbors (KNN)"
      ],
      "metadata": {
        "id": "8QGXXqgh6RF_"
      }
    },
    {
      "cell_type": "code",
      "source": [
        "knn = KNeighborsClassifier()\n",
        "knn.fit(X_w_train_scaled, y_w_train)\n",
        "knn_pred_w = knn.predict(X_w_test_scaled)\n",
        "\n",
        "print(\"KNN Accuracy:\", accuracy_score(y_w_test, knn_pred_w))\n",
        "print(classification_report(y_w_test, knn_pred_w))"
      ],
      "metadata": {
        "colab": {
          "base_uri": "https://localhost:8080/"
        },
        "id": "wCs4eKRG6RrY",
        "outputId": "29be65b4-63c0-4178-9fd2-c5b611cbb496"
      },
      "execution_count": 22,
      "outputs": [
        {
          "output_type": "stream",
          "name": "stdout",
          "text": [
            "KNN Accuracy: 0.9496021220159151\n",
            "              precision    recall  f1-score   support\n",
            "\n",
            "           0       0.96      0.99      0.97       354\n",
            "           1       0.67      0.35      0.46        23\n",
            "\n",
            "    accuracy                           0.95       377\n",
            "   macro avg       0.81      0.67      0.72       377\n",
            "weighted avg       0.94      0.95      0.94       377\n",
            "\n"
          ]
        }
      ]
    }
  ]
}